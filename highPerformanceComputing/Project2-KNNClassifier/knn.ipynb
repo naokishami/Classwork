{
 "cells": [
  {
   "cell_type": "code",
   "execution_count": 24,
   "id": "7d58f514",
   "metadata": {},
   "outputs": [
    {
     "name": "stdout",
     "output_type": "stream",
     "text": [
      "Matrix shape: (496, 4)\n",
      "Query book shape: (496,)\n"
     ]
    }
   ],
   "source": [
    "import pandas as pd\n",
    "import numpy as np\n",
    "\n",
    "matrix = pd.read_csv(\"./data/matrix.csv\")\n",
    "\n",
    "query_book = matrix['Count_Hamlet']\n",
    "\n",
    "# delete first column, unnecessary data (just enumerates the row number)\n",
    "matrix = matrix.iloc[:, 1:5]\n",
    "\n",
    "print(\"Matrix shape: \" + str(matrix.shape))\n",
    "\n",
    "romeo = matrix.iloc[:, 1]\n",
    "# # # print(romeo)\n",
    "\n",
    "moby = matrix.iloc[:, 2]\n",
    "# # print(moby)\n",
    "\n",
    "gatsby = matrix.iloc[:, 3]\n",
    "# print(gatsby)\n",
    "\n",
    "print(\"Query book shape: \" + str(query_book.shape))"
   ]
  },
  {
   "cell_type": "code",
   "execution_count": 2,
   "id": "6c644f22",
   "metadata": {
    "scrolled": true
   },
   "outputs": [
    {
     "name": "stdout",
     "output_type": "stream",
     "text": [
      "          Word  Count_Romeo  Count_Moby  Count_Gatsby\n",
      "0        romeo        280.0         0.0           0.0\n",
      "1         thou        275.0       240.0           0.0\n",
      "2          thy        170.0       110.0           0.0\n",
      "3       juliet        169.0         0.0           0.0\n",
      "4            o        148.0         0.0           0.0\n",
      "..         ...          ...         ...           ...\n",
      "491       sent          0.0         0.0           0.0\n",
      "492         ii          0.0         0.0           0.0\n",
      "493       e’en          0.0         0.0           0.0\n",
      "494        oft          0.0         0.0           0.0\n",
      "495  ourselves          0.0         0.0           0.0\n",
      "\n",
      "[496 rows x 4 columns]\n"
     ]
    }
   ],
   "source": [
    "print(matrix)"
   ]
  },
  {
   "cell_type": "code",
   "execution_count": 3,
   "id": "5a33715d",
   "metadata": {},
   "outputs": [
    {
     "name": "stdout",
     "output_type": "stream",
     "text": [
      "0        0.0\n",
      "1      102.0\n",
      "2       86.0\n",
      "3        0.0\n",
      "4      110.0\n",
      "       ...  \n",
      "491     13.0\n",
      "492     12.0\n",
      "493     12.0\n",
      "494     12.0\n",
      "495     12.0\n",
      "Name: Count_Hamlet, Length: 496, dtype: float64\n"
     ]
    }
   ],
   "source": [
    "print(query_book)"
   ]
  },
  {
   "cell_type": "markdown",
   "id": "5d2e8248",
   "metadata": {},
   "source": [
    "***Finding the cosine similarity...***"
   ]
  },
  {
   "cell_type": "markdown",
   "id": "ae836427",
   "metadata": {},
   "source": [
    "$$ cos(theta) = (a dot b) / (||a|| * ||b||) $$"
   ]
  },
  {
   "cell_type": "markdown",
   "id": "619ea6c3",
   "metadata": {},
   "source": [
    "a = first column of the book matrix = Count_Romeo <br> b = query_book ... (secretly it's Hamlet)"
   ]
  },
  {
   "cell_type": "code",
   "execution_count": 44,
   "id": "4e493eed",
   "metadata": {},
   "outputs": [],
   "source": [
    "def magnitude(vec):\n",
    "    total = 0\n",
    "    for item in vec:\n",
    "        total += item**2\n",
    "    total = np.sqrt(total)\n",
    "    return total"
   ]
  },
  {
   "cell_type": "code",
   "execution_count": 45,
   "id": "d1e2d983",
   "metadata": {
    "scrolled": true
   },
   "outputs": [
    {
     "data": {
      "text/plain": [
       "0.33905935163424733"
      ]
     },
     "execution_count": 45,
     "metadata": {},
     "output_type": "execute_result"
    }
   ],
   "source": [
    "romeo_cos = romeo @ query_book / (magnitude(romeo) * magnitude(query_book))\n",
    "romeo_cos"
   ]
  },
  {
   "cell_type": "code",
   "execution_count": 46,
   "id": "247919bd",
   "metadata": {},
   "outputs": [
    {
     "data": {
      "text/plain": [
       "0.19946357721283134"
      ]
     },
     "execution_count": 46,
     "metadata": {},
     "output_type": "execute_result"
    }
   ],
   "source": [
    "moby_cos = moby @ query_book / (magnitude(moby) * magnitude(query_book))\n",
    "moby_cos"
   ]
  },
  {
   "cell_type": "code",
   "execution_count": 47,
   "id": "755fc1bb",
   "metadata": {},
   "outputs": [
    {
     "data": {
      "text/plain": [
       "0.12694400766706107"
      ]
     },
     "execution_count": 47,
     "metadata": {},
     "output_type": "execute_result"
    }
   ],
   "source": [
    "gatsby_cos = gatsby @ query_book / (magnitude(gatsby) * magnitude(query_book))\n",
    "gatsby_cos"
   ]
  },
  {
   "cell_type": "code",
   "execution_count": 49,
   "id": "c11a2ab1",
   "metadata": {},
   "outputs": [
    {
     "name": "stdout",
     "output_type": "stream",
     "text": [
      "Romeo distance: 0.33905935163424733\n",
      "Moby distance: 0.19946357721283134\n",
      "Gatsby distance: 0.12694400766706107\n"
     ]
    }
   ],
   "source": [
    "print('Romeo distance: ' + str(romeo_cos))\n",
    "print('Moby distance: ' + str(moby_cos))\n",
    "print('Gatsby distance: ' + str(gatsby_cos))"
   ]
  },
  {
   "cell_type": "raw",
   "id": "a34ba187",
   "metadata": {},
   "source": [
    "cos(theta) ranges from 0 to 1. 0 meaning orthogonal or not similar at all, and 1 meaning parallel or highly similar.\n",
    "\n",
    "Romeo has the cos(theta) that is closest to 1 meaning our query book (which is s"
   ]
  }
 ],
 "metadata": {
  "kernelspec": {
   "display_name": "Python 3",
   "language": "python",
   "name": "python3"
  },
  "language_info": {
   "codemirror_mode": {
    "name": "ipython",
    "version": 3
   },
   "file_extension": ".py",
   "mimetype": "text/x-python",
   "name": "python",
   "nbconvert_exporter": "python",
   "pygments_lexer": "ipython3",
   "version": "3.9.1"
  }
 },
 "nbformat": 4,
 "nbformat_minor": 5
}

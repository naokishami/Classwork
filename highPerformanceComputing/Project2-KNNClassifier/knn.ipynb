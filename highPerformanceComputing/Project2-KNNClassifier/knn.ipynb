{
 "cells": [
  {
   "cell_type": "code",
   "execution_count": 36,
   "id": "6eb0523c",
   "metadata": {},
   "outputs": [
    {
     "name": "stdout",
     "output_type": "stream",
     "text": [
      "Matrix shape: (496, 4)\n",
      "Query book shape: (496,)\n"
     ]
    }
   ],
   "source": [
    "import pandas as pd\n",
    "\n",
    "matrix = pd.read_csv(\"./data/matrix.csv\")\n",
    "\n",
    "query_book = matrix['Count_Hamlet']\n",
    "\n",
    "# delete first column, unnecessary data (just enumerates the row number)\n",
    "matrix = matrix.iloc[:, 1:5]\n",
    "\n",
    "print(\"Matrix shape: \" + str(matrix.shape))\n",
    "\n",
    "romeo = matrix.iloc[:, 1]\n",
    "# # # print(romeo)\n",
    "\n",
    "moby = matrix.iloc[:, 2]\n",
    "# # print(moby)\n",
    "\n",
    "gatsby = matrix.iloc[:, 3]\n",
    "# print(gatsby)\n",
    "\n",
    "print(\"Query book shape: \" + str(query_book.shape))"
   ]
  },
  {
   "cell_type": "code",
   "execution_count": 37,
   "id": "c619a415",
   "metadata": {
    "scrolled": true
   },
   "outputs": [
    {
     "name": "stdout",
     "output_type": "stream",
     "text": [
      "          Word  Count_Romeo  Count_Moby  Count_Gatsby\n",
      "0        romeo        280.0         0.0           0.0\n",
      "1         thou        275.0       240.0           0.0\n",
      "2          thy        170.0       110.0           0.0\n",
      "3       juliet        169.0         0.0           0.0\n",
      "4            o        148.0         0.0           0.0\n",
      "..         ...          ...         ...           ...\n",
      "491       sent          0.0         0.0           0.0\n",
      "492         ii          0.0         0.0           0.0\n",
      "493       e’en          0.0         0.0           0.0\n",
      "494        oft          0.0         0.0           0.0\n",
      "495  ourselves          0.0         0.0           0.0\n",
      "\n",
      "[496 rows x 4 columns]\n"
     ]
    }
   ],
   "source": [
    "print(matrix)"
   ]
  },
  {
   "cell_type": "code",
   "execution_count": 38,
   "id": "68727590",
   "metadata": {},
   "outputs": [
    {
     "name": "stdout",
     "output_type": "stream",
     "text": [
      "0        0.0\n",
      "1      102.0\n",
      "2       86.0\n",
      "3        0.0\n",
      "4      110.0\n",
      "       ...  \n",
      "491     13.0\n",
      "492     12.0\n",
      "493     12.0\n",
      "494     12.0\n",
      "495     12.0\n",
      "Name: Count_Hamlet, Length: 496, dtype: float64\n"
     ]
    }
   ],
   "source": [
    "print(query_book)"
   ]
  },
  {
   "cell_type": "markdown",
   "id": "387cdb3c",
   "metadata": {},
   "source": [
    "***Finding the cosine similarity...***"
   ]
  },
  {
   "cell_type": "markdown",
   "id": "17fa6179",
   "metadata": {},
   "source": [
    "$$ cos(theta) = (a dot b) / (||a|| * ||b||) $$"
   ]
  },
  {
   "cell_type": "markdown",
   "id": "646651b9",
   "metadata": {},
   "source": [
    "a = first column of the book matrix = Count_Romeo <br> b = query_book ... (secretly it's Hamlet)"
   ]
  },
  {
   "cell_type": "code",
   "execution_count": 54,
   "id": "64cd63c6",
   "metadata": {},
   "outputs": [],
   "source": [
    "def magnitude(vec):\n",
    "    total = 0\n",
    "    for item in vec:\n",
    "        total += item**2\n",
    "    total /= len(vec)\n",
    "    return total"
   ]
  },
  {
   "cell_type": "code",
   "execution_count": 56,
   "id": "465334f4",
   "metadata": {},
   "outputs": [
    {
     "data": {
      "text/plain": [
       "0.17377547057387555"
      ]
     },
     "execution_count": 56,
     "metadata": {},
     "output_type": "execute_result"
    }
   ],
   "source": [
    "romeo_cos = romeo.dot(query_book) / (magnitude(romeo) * magnitude(query_book))\n",
    "romeo_cos"
   ]
  },
  {
   "cell_type": "code",
   "execution_count": 58,
   "id": "612132eb",
   "metadata": {},
   "outputs": [
    {
     "data": {
      "text/plain": [
       "0.027433981505726984"
      ]
     },
     "execution_count": 58,
     "metadata": {},
     "output_type": "execute_result"
    }
   ],
   "source": [
    "moby_cos = moby.dot(query_book) / (magnitude(moby) * magnitude(query_book))\n",
    "moby_cos"
   ]
  },
  {
   "cell_type": "code",
   "execution_count": 59,
   "id": "e58c83b4",
   "metadata": {},
   "outputs": [
    {
     "data": {
      "text/plain": [
       "0.3338265744685987"
      ]
     },
     "execution_count": 59,
     "metadata": {},
     "output_type": "execute_result"
    }
   ],
   "source": [
    "gatsby_cos = moby.dot(query_book) / (magnitude(gatsby) * magnitude(query_book))\n",
    "gatsby_cos"
   ]
  },
  {
   "cell_type": "markdown",
   "id": "2a091b29",
   "metadata": {},
   "source": [
    "According to cosine similarity, query_book is most similar to Gatsby which is disappointing because it should have been most similar to Romeo and Juliet"
   ]
  },
  {
   "cell_type": "code",
   "execution_count": null,
   "id": "4b9192e7",
   "metadata": {},
   "outputs": [],
   "source": []
  }
 ],
 "metadata": {
  "kernelspec": {
   "display_name": "Python 3",
   "language": "python",
   "name": "python3"
  },
  "language_info": {
   "codemirror_mode": {
    "name": "ipython",
    "version": 3
   },
   "file_extension": ".py",
   "mimetype": "text/x-python",
   "name": "python",
   "nbconvert_exporter": "python",
   "pygments_lexer": "ipython3",
   "version": "3.9.1"
  }
 },
 "nbformat": 4,
 "nbformat_minor": 5
}

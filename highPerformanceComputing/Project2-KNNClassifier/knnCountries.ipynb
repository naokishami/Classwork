{
 "cells": [
  {
   "cell_type": "code",
   "execution_count": 37,
   "id": "9f3d5995",
   "metadata": {},
   "outputs": [
    {
     "data": {
      "text/html": [
       "<div>\n",
       "<style scoped>\n",
       "    .dataframe tbody tr th:only-of-type {\n",
       "        vertical-align: middle;\n",
       "    }\n",
       "\n",
       "    .dataframe tbody tr th {\n",
       "        vertical-align: top;\n",
       "    }\n",
       "\n",
       "    .dataframe thead th {\n",
       "        text-align: right;\n",
       "    }\n",
       "</style>\n",
       "<table border=\"1\" class=\"dataframe\">\n",
       "  <thead>\n",
       "    <tr style=\"text-align: right;\">\n",
       "      <th></th>\n",
       "      <th>Unnamed: 0</th>\n",
       "      <th>Word</th>\n",
       "      <th>Count_US</th>\n",
       "      <th>Count_Rus</th>\n",
       "      <th>Count</th>\n",
       "    </tr>\n",
       "  </thead>\n",
       "  <tbody>\n",
       "    <tr>\n",
       "      <th>0</th>\n",
       "      <td>0</td>\n",
       "      <td>shall</td>\n",
       "      <td>306.0</td>\n",
       "      <td>383.0</td>\n",
       "      <td>169.0</td>\n",
       "    </tr>\n",
       "    <tr>\n",
       "      <th>1</th>\n",
       "      <td>1</td>\n",
       "      <td>states</td>\n",
       "      <td>113.0</td>\n",
       "      <td>0.0</td>\n",
       "      <td>0.0</td>\n",
       "    </tr>\n",
       "    <tr>\n",
       "      <th>2</th>\n",
       "      <td>2</td>\n",
       "      <td>president</td>\n",
       "      <td>106.0</td>\n",
       "      <td>90.0</td>\n",
       "      <td>0.0</td>\n",
       "    </tr>\n",
       "    <tr>\n",
       "      <th>3</th>\n",
       "      <td>3</td>\n",
       "      <td>united</td>\n",
       "      <td>84.0</td>\n",
       "      <td>0.0</td>\n",
       "      <td>0.0</td>\n",
       "    </tr>\n",
       "    <tr>\n",
       "      <th>4</th>\n",
       "      <td>4</td>\n",
       "      <td>any</td>\n",
       "      <td>78.0</td>\n",
       "      <td>14.0</td>\n",
       "      <td>29.0</td>\n",
       "    </tr>\n",
       "    <tr>\n",
       "      <th>...</th>\n",
       "      <td>...</td>\n",
       "      <td>...</td>\n",
       "      <td>...</td>\n",
       "      <td>...</td>\n",
       "      <td>...</td>\n",
       "    </tr>\n",
       "    <tr>\n",
       "      <th>412</th>\n",
       "      <td>412</td>\n",
       "      <td>warrant</td>\n",
       "      <td>0.0</td>\n",
       "      <td>0.0</td>\n",
       "      <td>3.0</td>\n",
       "    </tr>\n",
       "    <tr>\n",
       "      <th>413</th>\n",
       "      <td>413</td>\n",
       "      <td>issued</td>\n",
       "      <td>0.0</td>\n",
       "      <td>0.0</td>\n",
       "      <td>3.0</td>\n",
       "    </tr>\n",
       "    <tr>\n",
       "      <th>414</th>\n",
       "      <td>414</td>\n",
       "      <td>detained</td>\n",
       "      <td>0.0</td>\n",
       "      <td>0.0</td>\n",
       "      <td>3.0</td>\n",
       "    </tr>\n",
       "    <tr>\n",
       "      <th>415</th>\n",
       "      <td>415</td>\n",
       "      <td>witnesses</td>\n",
       "      <td>0.0</td>\n",
       "      <td>0.0</td>\n",
       "      <td>3.0</td>\n",
       "    </tr>\n",
       "    <tr>\n",
       "      <th>416</th>\n",
       "      <td>416</td>\n",
       "      <td>makes</td>\n",
       "      <td>0.0</td>\n",
       "      <td>0.0</td>\n",
       "      <td>3.0</td>\n",
       "    </tr>\n",
       "  </tbody>\n",
       "</table>\n",
       "<p>417 rows × 5 columns</p>\n",
       "</div>"
      ],
      "text/plain": [
       "     Unnamed: 0       Word  Count_US  Count_Rus  Count\n",
       "0             0      shall     306.0      383.0  169.0\n",
       "1             1     states     113.0        0.0    0.0\n",
       "2             2  president     106.0       90.0    0.0\n",
       "3             3     united      84.0        0.0    0.0\n",
       "4             4        any      78.0       14.0   29.0\n",
       "..          ...        ...       ...        ...    ...\n",
       "412         412    warrant       0.0        0.0    3.0\n",
       "413         413     issued       0.0        0.0    3.0\n",
       "414         414   detained       0.0        0.0    3.0\n",
       "415         415  witnesses       0.0        0.0    3.0\n",
       "416         416      makes       0.0        0.0    3.0\n",
       "\n",
       "[417 rows x 5 columns]"
      ]
     },
     "execution_count": 37,
     "metadata": {},
     "output_type": "execute_result"
    }
   ],
   "source": [
    "import pandas as pd\n",
    "\n",
    "matrix = pd.read_csv(\"./data/matrixCountries.csv\")\n",
    "matrix"
   ]
  },
  {
   "cell_type": "code",
   "execution_count": 60,
   "id": "e521c151",
   "metadata": {},
   "outputs": [],
   "source": [
    "us = matrix.iloc[:, 2]\n",
    "rus = matrix.iloc[:, 3]\n",
    "query = matrix.iloc[:, 4]"
   ]
  },
  {
   "cell_type": "code",
   "execution_count": 61,
   "id": "94830bea",
   "metadata": {},
   "outputs": [],
   "source": [
    "def magnitude(vec):\n",
    "    total = 0\n",
    "    for item in vec:\n",
    "        total += item**2\n",
    "    total /= len(vec)\n",
    "    return total"
   ]
  },
  {
   "cell_type": "code",
   "execution_count": 62,
   "id": "9c4f9fe7",
   "metadata": {},
   "outputs": [
    {
     "data": {
      "text/plain": [
       "1.1575992153179"
      ]
     },
     "execution_count": 62,
     "metadata": {},
     "output_type": "execute_result"
    }
   ],
   "source": [
    "us_cos = us @ query / magnitude(us) / magnitude(query)\n",
    "us_cos"
   ]
  },
  {
   "cell_type": "code",
   "execution_count": 63,
   "id": "1b9984d3",
   "metadata": {},
   "outputs": [
    {
     "data": {
      "text/plain": [
       "0.34652481573214505"
      ]
     },
     "execution_count": 63,
     "metadata": {},
     "output_type": "execute_result"
    }
   ],
   "source": [
    "rus_cos = rus @ query / (magnitude(rus) * magnitude(query))\n",
    "rus_cos"
   ]
  },
  {
   "cell_type": "code",
   "execution_count": 56,
   "id": "06f9c5df",
   "metadata": {},
   "outputs": [
    {
     "data": {
      "text/plain": [
       "(417,)"
      ]
     },
     "execution_count": 56,
     "metadata": {},
     "output_type": "execute_result"
    }
   ],
   "source": []
  },
  {
   "cell_type": "code",
   "execution_count": null,
   "id": "7eff15b3",
   "metadata": {},
   "outputs": [],
   "source": []
  }
 ],
 "metadata": {
  "kernelspec": {
   "display_name": "Python 3",
   "language": "python",
   "name": "python3"
  },
  "language_info": {
   "codemirror_mode": {
    "name": "ipython",
    "version": 3
   },
   "file_extension": ".py",
   "mimetype": "text/x-python",
   "name": "python",
   "nbconvert_exporter": "python",
   "pygments_lexer": "ipython3",
   "version": "3.9.1"
  }
 },
 "nbformat": 4,
 "nbformat_minor": 5
}

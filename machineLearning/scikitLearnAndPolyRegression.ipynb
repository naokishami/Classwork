{
 "cells": [
  {
   "cell_type": "markdown",
   "id": "bound-importance",
   "metadata": {},
   "source": [
    "Naoki Atkins\n",
    "\n",
    "Project 3"
   ]
  },
  {
   "cell_type": "code",
   "execution_count": 1,
   "id": "realistic-ireland",
   "metadata": {},
   "outputs": [],
   "source": [
    "import numpy as np\n",
    "import matplotlib.pyplot as plt\n",
    "from sklearn.model_selection import train_test_split\n",
    "from sklearn.linear_model import LinearRegression\n",
    "from sklearn.metrics import mean_squared_error\n",
    "from sklearn.preprocessing import PolynomialFeatures\n",
    "np.set_printoptions(suppress=True)"
   ]
  },
  {
   "cell_type": "markdown",
   "id": "sublime-david",
   "metadata": {},
   "source": [
    "***Question 1***"
   ]
  },
  {
   "cell_type": "code",
   "execution_count": 2,
   "id": "laden-catholic",
   "metadata": {},
   "outputs": [],
   "source": [
    "data = np.load('./boston.npz')"
   ]
  },
  {
   "cell_type": "markdown",
   "id": "found-cursor",
   "metadata": {},
   "source": [
    "***Question 2***"
   ]
  },
  {
   "cell_type": "code",
   "execution_count": 3,
   "id": "reduced-ivory",
   "metadata": {},
   "outputs": [],
   "source": [
    "features = data['features']\n",
    "target = data['target']\n",
    "\n",
    "X = features\n",
    "y = target[:,None]"
   ]
  },
  {
   "cell_type": "code",
   "execution_count": 4,
   "id": "robust-macintosh",
   "metadata": {},
   "outputs": [],
   "source": [
    "X = np.concatenate((np.ones((len(X),1)),X),axis=1)"
   ]
  },
  {
   "cell_type": "code",
   "execution_count": 5,
   "id": "advisory-checklist",
   "metadata": {},
   "outputs": [],
   "source": [
    "X_train, X_test, y_train, y_test = train_test_split(X, y, test_size=0.2, random_state=(2021-3-11))"
   ]
  },
  {
   "cell_type": "markdown",
   "id": "spoken-determination",
   "metadata": {},
   "source": [
    "***Question 3***"
   ]
  },
  {
   "cell_type": "code",
   "execution_count": 6,
   "id": "anticipated-contract",
   "metadata": {},
   "outputs": [
    {
     "data": {
      "text/plain": [
       "[<matplotlib.lines.Line2D at 0x7fdd37892c10>]"
      ]
     },
     "execution_count": 6,
     "metadata": {},
     "output_type": "execute_result"
    },
    {
     "data": {
      "image/png": "[encoded data removed]",
      "text/plain": [
       "<Figure size 432x288 with 1 Axes>"
      ]
     },
     "metadata": {
      "needs_background": "light"
     },
     "output_type": "display_data"
    }
   ],
   "source": [
    "plt.plot(X_train[:,13], y_train, 'ro')"
   ]
  },
  {
   "cell_type": "markdown",
   "id": "equal-occurrence",
   "metadata": {},
   "source": [
    "The relationship seems to follow more of a negative quadratic than a linear line."
   ]
  },
  {
   "cell_type": "markdown",
   "id": "vulnerable-pioneer",
   "metadata": {},
   "source": [
    "***Question 4***"
   ]
  },
  {
   "cell_type": "code",
   "execution_count": 7,
   "id": "correct-suite",
   "metadata": {},
   "outputs": [],
   "source": [
    "LSTAT = X_train[:,13][:,None]\n",
    "MEDV = y_train"
   ]
  },
  {
   "cell_type": "code",
   "execution_count": 8,
   "id": "running-saudi",
   "metadata": {},
   "outputs": [],
   "source": [
    "reg = LinearRegression().fit(LSTAT, MEDV)"
   ]
  },
  {
   "cell_type": "code",
   "execution_count": 9,
   "id": "sudden-penny",
   "metadata": {},
   "outputs": [
    {
     "data": {
      "text/plain": [
       "array([[-0.98093888]])"
      ]
     },
     "execution_count": 9,
     "metadata": {},
     "output_type": "execute_result"
    }
   ],
   "source": [
    "reg.coef_"
   ]
  },
  {
   "cell_type": "code",
   "execution_count": 10,
   "id": "paperback-validation",
   "metadata": {},
   "outputs": [
    {
     "data": {
      "text/plain": [
       "array([34.99113302])"
      ]
     },
     "execution_count": 10,
     "metadata": {},
     "output_type": "execute_result"
    }
   ],
   "source": [
    "reg.intercept_"
   ]
  },
  {
   "cell_type": "markdown",
   "id": "mediterranean-point",
   "metadata": {},
   "source": [
    "MEDV = 34.991133021969475 + (-0.98093888)(LSTAT)"
   ]
  },
  {
   "cell_type": "markdown",
   "id": "institutional-morrison",
   "metadata": {},
   "source": [
    "***Question 5***"
   ]
  },
  {
   "cell_type": "code",
   "execution_count": 11,
   "id": "approximate-impact",
   "metadata": {},
   "outputs": [],
   "source": [
    "abline = np.array([reg.intercept_, reg.coef_], dtype=object)"
   ]
  },
  {
   "cell_type": "code",
   "execution_count": 12,
   "id": "popular-fluid",
   "metadata": {
    "scrolled": false
   },
   "outputs": [],
   "source": [
    "testx = np.linspace(0,40,100)[:,None]\n",
    "testX = np.hstack((np.ones_like(testx),testx))\n",
    "testt = np.dot(testX,abline)"
   ]
  },
  {
   "cell_type": "code",
   "execution_count": 13,
   "id": "creative-amsterdam",
   "metadata": {
    "scrolled": true
   },
   "outputs": [
    {
     "data": {
      "text/plain": [
       "[<matplotlib.lines.Line2D at 0x7fdd37a61790>]"
      ]
     },
     "execution_count": 13,
     "metadata": {},
     "output_type": "execute_result"
    },
    {
     "data": {
      "image/png": "[encoded data removed]",
      "text/plain": [
       "<Figure size 432x288 with 1 Axes>"
      ]
     },
     "metadata": {
      "needs_background": "light"
     },
     "output_type": "display_data"
    }
   ],
   "source": [
    "plt.figure()\n",
    "plt.plot(LSTAT,MEDV,'ro')\n",
    "plt.plot(testx,testt,'b')"
   ]
  },
  {
   "cell_type": "markdown",
   "id": "iraqi-keeping",
   "metadata": {},
   "source": [
    "The model fits decently well along the center of the mass of data. Around the extremes, the line is a little bit off."
   ]
  },
  {
   "cell_type": "markdown",
   "id": "interesting-commander",
   "metadata": {},
   "source": [
    "***Question 6***"
   ]
  },
  {
   "cell_type": "code",
   "execution_count": 14,
   "id": "hairy-nitrogen",
   "metadata": {
    "scrolled": true
   },
   "outputs": [],
   "source": [
    "pred = reg.predict(LSTAT)"
   ]
  },
  {
   "cell_type": "code",
   "execution_count": 15,
   "id": "competent-status",
   "metadata": {},
   "outputs": [
    {
     "data": {
      "text/plain": [
       "38.47893344802523"
      ]
     },
     "execution_count": 15,
     "metadata": {},
     "output_type": "execute_result"
    }
   ],
   "source": [
    "mean_squared_error(y_train, pred)"
   ]
  },
  {
   "cell_type": "markdown",
   "id": "structural-positive",
   "metadata": {},
   "source": [
    "Average Loss = 38.47893344802523"
   ]
  },
  {
   "cell_type": "markdown",
   "id": "juvenile-masters",
   "metadata": {},
   "source": [
    "***Question 7***"
   ]
  },
  {
   "cell_type": "code",
   "execution_count": 16,
   "id": "induced-principal",
   "metadata": {},
   "outputs": [],
   "source": [
    "pred_test = reg.predict(X_test[:,13][:,None])"
   ]
  },
  {
   "cell_type": "code",
   "execution_count": 17,
   "id": "prescribed-arnold",
   "metadata": {},
   "outputs": [
    {
     "data": {
      "text/plain": [
       "38.75054664279496"
      ]
     },
     "execution_count": 17,
     "metadata": {},
     "output_type": "execute_result"
    }
   ],
   "source": [
    "mean_squared_error(y_test, pred_test)"
   ]
  },
  {
   "cell_type": "markdown",
   "id": "broadband-springfield",
   "metadata": {},
   "source": [
    "Test MSE is slightly higher, which means that there is a slight overfit"
   ]
  },
  {
   "cell_type": "markdown",
   "id": "incoming-treatment",
   "metadata": {},
   "source": [
    "***Question 8***"
   ]
  },
  {
   "cell_type": "code",
   "execution_count": 18,
   "id": "young-enclosure",
   "metadata": {},
   "outputs": [],
   "source": [
    "LSTAT_sqr = np.hstack((np.ones_like(LSTAT), LSTAT, LSTAT**2))"
   ]
  },
  {
   "cell_type": "code",
   "execution_count": 19,
   "id": "organized-irrigation",
   "metadata": {},
   "outputs": [],
   "source": [
    "reg = LinearRegression().fit(LSTAT_sqr, MEDV)"
   ]
  },
  {
   "cell_type": "code",
   "execution_count": 20,
   "id": "derived-filing",
   "metadata": {},
   "outputs": [],
   "source": [
    "pred_train_LSTAT_sqr = reg.predict(LSTAT_sqr)"
   ]
  },
  {
   "cell_type": "code",
   "execution_count": 21,
   "id": "worldwide-bidding",
   "metadata": {},
   "outputs": [],
   "source": [
    "MSE_train_sqr = mean_squared_error(y_train, pred_train_LSTAT_sqr)"
   ]
  },
  {
   "cell_type": "code",
   "execution_count": 22,
   "id": "acceptable-following",
   "metadata": {},
   "outputs": [
    {
     "data": {
      "text/plain": [
       "30.59851434937097"
      ]
     },
     "execution_count": 22,
     "metadata": {},
     "output_type": "execute_result"
    }
   ],
   "source": [
    "MSE_train_sqr"
   ]
  },
  {
   "cell_type": "code",
   "execution_count": 23,
   "id": "opened-receiver",
   "metadata": {},
   "outputs": [],
   "source": [
    "LSTAT_sqr_test = np.hstack((np.ones_like(X_test[:,13][:,None]), X_test[:,13][:,None], X_test[:,13][:,None]**2))"
   ]
  },
  {
   "cell_type": "code",
   "execution_count": 24,
   "id": "effective-hardware",
   "metadata": {
    "scrolled": true
   },
   "outputs": [],
   "source": [
    "pred_test_LSTAT_sqr = reg.predict(LSTAT_sqr_test)"
   ]
  },
  {
   "cell_type": "code",
   "execution_count": 25,
   "id": "searching-rouge",
   "metadata": {},
   "outputs": [],
   "source": [
    "MSE_test_sqr = mean_squared_error(y_test, pred_test_LSTAT_sqr)"
   ]
  },
  {
   "cell_type": "code",
   "execution_count": 26,
   "id": "accurate-madness",
   "metadata": {},
   "outputs": [
    {
     "data": {
      "text/plain": [
       "29.297124138279163"
      ]
     },
     "execution_count": 26,
     "metadata": {},
     "output_type": "execute_result"
    }
   ],
   "source": [
    "MSE_test_sqr"
   ]
  },
  {
   "cell_type": "markdown",
   "id": "laughing-advisory",
   "metadata": {},
   "source": [
    "The test set has a lower MSE compared to the training set which means the model is fitting well."
   ]
  },
  {
   "cell_type": "markdown",
   "id": "angry-funeral",
   "metadata": {},
   "source": [
    "***Question 9***"
   ]
  },
  {
   "cell_type": "code",
   "execution_count": 27,
   "id": "vulnerable-prefix",
   "metadata": {},
   "outputs": [
    {
     "data": {
      "text/plain": [
       "array([[ 0.        , -2.365919  ,  0.04440767]])"
      ]
     },
     "execution_count": 27,
     "metadata": {},
     "output_type": "execute_result"
    }
   ],
   "source": [
    "reg.coef_"
   ]
  },
  {
   "cell_type": "code",
   "execution_count": 28,
   "id": "ordinary-organization",
   "metadata": {},
   "outputs": [
    {
     "data": {
      "text/plain": [
       "array([43.07121508])"
      ]
     },
     "execution_count": 28,
     "metadata": {},
     "output_type": "execute_result"
    }
   ],
   "source": [
    "reg.intercept_"
   ]
  },
  {
   "cell_type": "code",
   "execution_count": 29,
   "id": "separated-instrument",
   "metadata": {},
   "outputs": [],
   "source": [
    "squared_line = [reg.intercept_, reg.coef_[0][1], reg.coef_[0][2]]"
   ]
  },
  {
   "cell_type": "code",
   "execution_count": 30,
   "id": "fewer-general",
   "metadata": {},
   "outputs": [],
   "source": [
    "testx = np.linspace(0,40,100)[:,None]\n",
    "testX = np.hstack((np.ones_like(testx),testx, testx**2))\n",
    "testt = np.dot(testX,squared_line)"
   ]
  },
  {
   "cell_type": "code",
   "execution_count": 31,
   "id": "expressed-antenna",
   "metadata": {},
   "outputs": [
    {
     "data": {
      "text/plain": [
       "[<matplotlib.lines.Line2D at 0x7fdd37be2dc0>]"
      ]
     },
     "execution_count": 31,
     "metadata": {},
     "output_type": "execute_result"
    },
    {
     "data": {
      "image/png": "[encoded data removed]",
      "text/plain": [
       "<Figure size 432x288 with 1 Axes>"
      ]
     },
     "metadata": {
      "needs_background": "light"
     },
     "output_type": "display_data"
    }
   ],
   "source": [
    "plt.figure()\n",
    "plt.plot(LSTAT,MEDV,'ro')\n",
    "plt.plot(testx,testt,'b')"
   ]
  },
  {
   "cell_type": "markdown",
   "id": "smaller-chicago",
   "metadata": {},
   "source": [
    "Model fits pretty well. Better than the line."
   ]
  },
  {
   "cell_type": "markdown",
   "id": "pursuant-consideration",
   "metadata": {},
   "source": [
    "***Question 10***"
   ]
  },
  {
   "cell_type": "code",
   "execution_count": 32,
   "id": "hindu-satellite",
   "metadata": {},
   "outputs": [],
   "source": [
    "reg = LinearRegression().fit(X_train, y_train)"
   ]
  },
  {
   "cell_type": "code",
   "execution_count": 33,
   "id": "handy-scout",
   "metadata": {},
   "outputs": [
    {
     "data": {
      "text/plain": [
       "array([[  0.        ,  -0.11972196,   0.05296359,   0.05161503,\n",
       "          2.55847703, -17.25240202,   4.08697043,  -0.00464415,\n",
       "         -1.52421308,   0.29963832,  -0.01371524,  -0.84891262,\n",
       "          0.00656971,  -0.53327603]])"
      ]
     },
     "execution_count": 33,
     "metadata": {},
     "output_type": "execute_result"
    }
   ],
   "source": [
    "reg.coef_"
   ]
  },
  {
   "cell_type": "code",
   "execution_count": 34,
   "id": "detailed-education",
   "metadata": {},
   "outputs": [
    {
     "data": {
      "text/plain": [
       "array([34.33727849])"
      ]
     },
     "execution_count": 34,
     "metadata": {},
     "output_type": "execute_result"
    }
   ],
   "source": [
    "reg.intercept_"
   ]
  },
  {
   "cell_type": "code",
   "execution_count": 35,
   "id": "afraid-carpet",
   "metadata": {},
   "outputs": [],
   "source": [
    "pred = reg.predict(X_train)"
   ]
  },
  {
   "cell_type": "code",
   "execution_count": 36,
   "id": "restricted-donor",
   "metadata": {},
   "outputs": [
    {
     "data": {
      "text/plain": [
       "21.046340805342368"
      ]
     },
     "execution_count": 36,
     "metadata": {},
     "output_type": "execute_result"
    }
   ],
   "source": [
    "mean_squared_error(y_train, pred)"
   ]
  },
  {
   "cell_type": "markdown",
   "id": "rental-contest",
   "metadata": {},
   "source": [
    "The above mean square error is for the training set"
   ]
  },
  {
   "cell_type": "code",
   "execution_count": 37,
   "id": "noticed-emerald",
   "metadata": {},
   "outputs": [],
   "source": [
    "pred_test = reg.predict(X_test)"
   ]
  },
  {
   "cell_type": "code",
   "execution_count": 38,
   "id": "metric-spencer",
   "metadata": {},
   "outputs": [
    {
     "data": {
      "text/plain": [
       "25.976408935996396"
      ]
     },
     "execution_count": 38,
     "metadata": {},
     "output_type": "execute_result"
    }
   ],
   "source": [
    "mean_squared_error(y_test, pred_test)"
   ]
  },
  {
   "cell_type": "markdown",
   "id": "signed-torture",
   "metadata": {},
   "source": [
    "This model with polynomial features fits better as compared to the linear model with just a single feature. Making the model more complex allows it to fit the data more flexibly. This causes the MSE to go lower. "
   ]
  },
  {
   "cell_type": "markdown",
   "id": "79ddecb1",
   "metadata": {},
   "source": [
    "***Question 11***"
   ]
  },
  {
   "cell_type": "code",
   "execution_count": 39,
   "id": "f14127b2",
   "metadata": {},
   "outputs": [],
   "source": [
    "train_square_matrix = np.hstack((X_train, X_train**2))"
   ]
  },
  {
   "cell_type": "code",
   "execution_count": 40,
   "id": "3cd3a2ad",
   "metadata": {},
   "outputs": [],
   "source": [
    "model = LinearRegression().fit(train_square_matrix, MEDV)"
   ]
  },
  {
   "cell_type": "code",
   "execution_count": 41,
   "id": "358c5de6",
   "metadata": {},
   "outputs": [],
   "source": [
    "pred_train_sqr = model.predict(train_square_matrix)"
   ]
  },
  {
   "cell_type": "code",
   "execution_count": 42,
   "id": "92a69397",
   "metadata": {},
   "outputs": [
    {
     "data": {
      "text/plain": [
       "13.508100802461712"
      ]
     },
     "execution_count": 42,
     "metadata": {},
     "output_type": "execute_result"
    }
   ],
   "source": [
    "MSE_train_sqr = mean_squared_error(y_train, pred_train_sqr)\n",
    "MSE_train_sqr"
   ]
  },
  {
   "cell_type": "code",
   "execution_count": 43,
   "id": "1c5b1c4b",
   "metadata": {},
   "outputs": [],
   "source": [
    "test_square_matrix = np.hstack((X_test, X_test**2))"
   ]
  },
  {
   "cell_type": "code",
   "execution_count": 44,
   "id": "ef94f26c",
   "metadata": {},
   "outputs": [],
   "source": [
    "pred = model.predict(test_square_matrix)"
   ]
  },
  {
   "cell_type": "code",
   "execution_count": 45,
   "id": "2660e69a",
   "metadata": {},
   "outputs": [
    {
     "data": {
      "text/plain": [
       "17.857896093032977"
      ]
     },
     "execution_count": 45,
     "metadata": {},
     "output_type": "execute_result"
    }
   ],
   "source": [
    "mean_squared_error(y_test, pred)"
   ]
  },
  {
   "cell_type": "markdown",
   "id": "9e8db67d",
   "metadata": {},
   "source": [
    "The MSE's for the matrix of the squares of all the 13 input features performs better than the just the matrix of the features themselves. However, the testing set shows that the model is overfitting a little"
   ]
  },
  {
   "cell_type": "markdown",
   "id": "0ab28f74",
   "metadata": {},
   "source": [
    "***Question 12***"
   ]
  },
  {
   "cell_type": "code",
   "execution_count": 46,
   "id": "0d965588",
   "metadata": {},
   "outputs": [],
   "source": [
    "poly = PolynomialFeatures(degree = 2)\n",
    "X_train_poly = poly.fit_transform(X_train)\n",
    "X_test_poly = poly.fit_transform(X_test)\n",
    "\n",
    "model = LinearRegression().fit(X_train_poly, y_train)"
   ]
  },
  {
   "cell_type": "code",
   "execution_count": 47,
   "id": "bb4e1c14",
   "metadata": {},
   "outputs": [
    {
     "data": {
      "text/plain": [
       "10.961332604177754"
      ]
     },
     "execution_count": 47,
     "metadata": {},
     "output_type": "execute_result"
    }
   ],
   "source": [
    "pred = model.predict(X_train_poly)\n",
    "mean_squared_error(y_train, pred)"
   ]
  },
  {
   "cell_type": "code",
   "execution_count": 48,
   "id": "e4ed1051",
   "metadata": {},
   "outputs": [
    {
     "data": {
      "text/plain": [
       "21.27495081416152"
      ]
     },
     "execution_count": 48,
     "metadata": {},
     "output_type": "execute_result"
    }
   ],
   "source": [
    "pred = model.predict(X_test_poly)\n",
    "mean_squared_error(y_test, pred)"
   ]
  },
  {
   "cell_type": "markdown",
   "id": "de41d391",
   "metadata": {},
   "source": [
    "The model is now overfitting the data after fitting a polynomial matrix with interaction terms added."
   ]
  },
  {
   "cell_type": "code",
   "execution_count": null,
   "id": "671a0fe8",
   "metadata": {},
   "outputs": [],
   "source": []
  }
 ],
 "metadata": {
  "kernelspec": {
   "display_name": "Python 3",
   "language": "python",
   "name": "python3"
  },
  "language_info": {
   "codemirror_mode": {
    "name": "ipython",
    "version": 3
   },
   "file_extension": ".py",
   "mimetype": "text/x-python",
   "name": "python",
   "nbconvert_exporter": "python",
   "pygments_lexer": "ipython3",
   "version": "3.9.1"
  }
 },
 "nbformat": 4,
 "nbformat_minor": 5
}

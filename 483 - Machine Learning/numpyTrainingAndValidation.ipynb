{
 "cells": [
  {
   "cell_type": "markdown",
   "id": "square-collins",
   "metadata": {},
   "source": [
    "Naoki Atkins\n",
    "\n",
    "HW3"
   ]
  },
  {
   "cell_type": "code",
   "execution_count": 1,
   "id": "laden-halloween",
   "metadata": {},
   "outputs": [],
   "source": [
    "import numpy as np\n",
    "import matplotlib.pyplot as plt\n",
    "%matplotlib inline\n",
    "np.set_printoptions(suppress=True)"
   ]
  },
  {
   "cell_type": "markdown",
   "id": "packed-yahoo",
   "metadata": {},
   "source": [
    "**Question 1**"
   ]
  },
  {
   "cell_type": "code",
   "execution_count": 2,
   "id": "treated-heating",
   "metadata": {},
   "outputs": [],
   "source": [
    "data = np.load('./boston.npz')"
   ]
  },
  {
   "cell_type": "markdown",
   "id": "subsequent-delta",
   "metadata": {},
   "source": [
    "**Question 2**"
   ]
  },
  {
   "cell_type": "code",
   "execution_count": 3,
   "id": "spanish-initial",
   "metadata": {},
   "outputs": [],
   "source": [
    "validation_f = data['features'][:102]\n",
    "validation_t = data['target'][:102]\n",
    "training_f = data['features'][102:]\n",
    "training_t = data['target'][102:]"
   ]
  },
  {
   "cell_type": "markdown",
   "id": "auburn-bottle",
   "metadata": {},
   "source": [
    "**Question 3**"
   ]
  },
  {
   "cell_type": "code",
   "execution_count": 4,
   "id": "external-shelter",
   "metadata": {},
   "outputs": [],
   "source": [
    "rm = training_f[:,5][:,None]\n",
    "medv = training_t[:,None]"
   ]
  },
  {
   "cell_type": "code",
   "execution_count": 5,
   "id": "usual-scoop",
   "metadata": {
    "scrolled": true
   },
   "outputs": [
    {
     "data": {
      "text/plain": [
       "[<matplotlib.lines.Line2D at 0x7fec16e157f0>]"
      ]
     },
     "execution_count": 5,
     "metadata": {},
     "output_type": "execute_result"
    },
    {
     "data": {
      "image/png": "[encoded data removed]",
      "text/plain": [
       "<Figure size 432x288 with 1 Axes>"
      ]
     },
     "metadata": {
      "needs_background": "light"
     },
     "output_type": "display_data"
    }
   ],
   "source": [
    "plt.plot(rm, medv, 'ro')"
   ]
  },
  {
   "cell_type": "markdown",
   "id": "confidential-retention",
   "metadata": {},
   "source": [
    "The number of rooms does seems to affect the median value in a linear fashion"
   ]
  },
  {
   "cell_type": "markdown",
   "id": "iraqi-insert",
   "metadata": {},
   "source": [
    "**Question 4**"
   ]
  },
  {
   "cell_type": "code",
   "execution_count": 6,
   "id": "juvenile-trouble",
   "metadata": {},
   "outputs": [],
   "source": [
    "x = rm # rm = training_f[:,5][:,None]\n",
    "t = medv # medv = training_t[:,None]"
   ]
  },
  {
   "cell_type": "code",
   "execution_count": 7,
   "id": "former-cricket",
   "metadata": {},
   "outputs": [
    {
     "name": "stdout",
     "output_type": "stream",
     "text": [
      "[[-34.12731481]\n",
      " [  9.03591206]]\n"
     ]
    }
   ],
   "source": [
    "X = np.hstack((np.ones_like(x),x))\n",
    "XX = np.dot(X.T,X)\n",
    "invXX = np.linalg.inv(XX)\n",
    "Xt = np.dot(X.T,t)\n",
    "w = np.dot(invXX,Xt)\n",
    "print(w)"
   ]
  },
  {
   "cell_type": "markdown",
   "id": "black-gossip",
   "metadata": {},
   "source": [
    "The equation for MEDV as a linear function of RM is:\n",
    "$$ MEDV = -34.13 + 9.04 * RM $$"
   ]
  },
  {
   "cell_type": "markdown",
   "id": "infectious-awareness",
   "metadata": {},
   "source": [
    "**Question 5**"
   ]
  },
  {
   "cell_type": "code",
   "execution_count": 8,
   "id": "interesting-server",
   "metadata": {},
   "outputs": [
    {
     "data": {
      "text/plain": [
       "(2, 1)"
      ]
     },
     "execution_count": 8,
     "metadata": {},
     "output_type": "execute_result"
    }
   ],
   "source": [
    "w.shape"
   ]
  },
  {
   "cell_type": "code",
   "execution_count": 9,
   "id": "respective-beach",
   "metadata": {},
   "outputs": [],
   "source": [
    "testx = np.linspace(4,9,100)[:,None]\n",
    "testX = np.hstack((np.ones_like(testx),testx))\n",
    "testt = np.dot(testX,w)"
   ]
  },
  {
   "cell_type": "code",
   "execution_count": 10,
   "id": "vulnerable-intensity",
   "metadata": {},
   "outputs": [
    {
     "data": {
      "text/plain": [
       "(100, 2)"
      ]
     },
     "execution_count": 10,
     "metadata": {},
     "output_type": "execute_result"
    }
   ],
   "source": [
    "testX.shape"
   ]
  },
  {
   "cell_type": "code",
   "execution_count": 12,
   "id": "responsible-proceeding",
   "metadata": {},
   "outputs": [
    {
     "data": {
      "text/plain": [
       "[<matplotlib.lines.Line2D at 0x7fec16e71e10>]"
      ]
     },
     "execution_count": 12,
     "metadata": {},
     "output_type": "execute_result"
    },
    {
     "data": {
      "image/png": "[encoded data removed]",
      "text/plain": [
       "<Figure size 432x288 with 1 Axes>"
      ]
     },
     "metadata": {
      "needs_background": "light"
     },
     "output_type": "display_data"
    }
   ],
   "source": [
    "plt.figure()\n",
    "plt.plot(x,t,'ro')\n",
    "plt.plot(testx,testt,'b')"
   ]
  },
  {
   "cell_type": "code",
   "execution_count": 13,
   "id": "attended-helping",
   "metadata": {},
   "outputs": [
    {
     "data": {
      "text/plain": [
       "(100, 1)"
      ]
     },
     "execution_count": 13,
     "metadata": {},
     "output_type": "execute_result"
    }
   ],
   "source": [
    "testx.shape"
   ]
  },
  {
   "cell_type": "code",
   "execution_count": 14,
   "id": "passing-touch",
   "metadata": {},
   "outputs": [
    {
     "data": {
      "text/plain": [
       "(100, 1)"
      ]
     },
     "execution_count": 14,
     "metadata": {},
     "output_type": "execute_result"
    }
   ],
   "source": [
    "testt.shape"
   ]
  },
  {
   "cell_type": "markdown",
   "id": "absent-collector",
   "metadata": {},
   "source": [
    "The model seems to fit pretty well."
   ]
  },
  {
   "cell_type": "markdown",
   "id": "studied-residence",
   "metadata": {},
   "source": [
    "**Question 6**"
   ]
  },
  {
   "cell_type": "code",
   "execution_count": 15,
   "id": "tropical-replication",
   "metadata": {},
   "outputs": [],
   "source": [
    "pred = w[0][0] + w[1][0]*x"
   ]
  },
  {
   "cell_type": "code",
   "execution_count": 16,
   "id": "expected-wagner",
   "metadata": {},
   "outputs": [],
   "source": [
    "avg_loss_training = 0\n",
    "\n",
    "for idx, item in enumerate(pred):\n",
    "    avg_loss_training += (item - training_t[idx])**2\n",
    "    \n",
    "avg_loss_training /= len(pred)"
   ]
  },
  {
   "cell_type": "code",
   "execution_count": 17,
   "id": "threaded-superior",
   "metadata": {
    "scrolled": true
   },
   "outputs": [
    {
     "data": {
      "text/plain": [
       "array([41.05654883])"
      ]
     },
     "execution_count": 17,
     "metadata": {},
     "output_type": "execute_result"
    }
   ],
   "source": [
    "avg_loss_training"
   ]
  },
  {
   "cell_type": "markdown",
   "id": "reserved-speed",
   "metadata": {},
   "source": [
    "**Question 7**"
   ]
  },
  {
   "cell_type": "code",
   "execution_count": 18,
   "id": "direct-drawing",
   "metadata": {},
   "outputs": [],
   "source": [
    "x = validation_f[:,5][:,None]"
   ]
  },
  {
   "cell_type": "code",
   "execution_count": 19,
   "id": "revised-reproduction",
   "metadata": {},
   "outputs": [],
   "source": [
    "pred_validation = w[0][0] + w[1][0]*x"
   ]
  },
  {
   "cell_type": "code",
   "execution_count": 20,
   "id": "logical-buffer",
   "metadata": {},
   "outputs": [],
   "source": [
    "avg_loss_validation = 0\n",
    "\n",
    "for idx, item in enumerate(pred_validation):\n",
    "    avg_loss_validation += (item - validation_t[idx])**2\n",
    "    \n",
    "avg_loss_validation /= len(pred_validation) "
   ]
  },
  {
   "cell_type": "code",
   "execution_count": 21,
   "id": "innocent-airfare",
   "metadata": {},
   "outputs": [
    {
     "data": {
      "text/plain": [
       "array([53.76787796])"
      ]
     },
     "execution_count": 21,
     "metadata": {},
     "output_type": "execute_result"
    }
   ],
   "source": [
    "avg_loss_validation"
   ]
  },
  {
   "cell_type": "markdown",
   "id": "educational-distribution",
   "metadata": {},
   "source": [
    "The training MSE is considerably lower as compared to the validation MSE which means that the model is overfitting the data"
   ]
  },
  {
   "cell_type": "markdown",
   "id": "homeless-banana",
   "metadata": {},
   "source": [
    "**Question 8**"
   ]
  },
  {
   "cell_type": "markdown",
   "id": "computational-bumper",
   "metadata": {},
   "source": [
    "Using all 13 input features means that our **w** vector will have 14 elements. "
   ]
  },
  {
   "cell_type": "markdown",
   "id": "unique-missouri",
   "metadata": {},
   "source": [
    "Experiment 4: compute w for the training set"
   ]
  },
  {
   "cell_type": "code",
   "execution_count": 22,
   "id": "desirable-appraisal",
   "metadata": {},
   "outputs": [],
   "source": [
    "X = training_f #[:,None]\n",
    "t = training_t[:,None]"
   ]
  },
  {
   "cell_type": "code",
   "execution_count": 23,
   "id": "egyptian-peninsula",
   "metadata": {
    "scrolled": true
   },
   "outputs": [],
   "source": [
    "X = np.concatenate((np.ones((len(X),1)),X),axis=1)\n",
    "XX = np.dot(X.T,X)\n",
    "Xt = np.dot(X.T,t)\n",
    "w = np.linalg.solve(XX,Xt)"
   ]
  },
  {
   "cell_type": "code",
   "execution_count": 24,
   "id": "relative-ozone",
   "metadata": {
    "scrolled": false
   },
   "outputs": [
    {
     "name": "stdout",
     "output_type": "stream",
     "text": [
      "[[ 31.96424094]\n",
      " [ -0.11455286]\n",
      " [  0.04489321]\n",
      " [  0.02837557]\n",
      " [  2.70909742]\n",
      " [-16.74036715]\n",
      " [  4.11148209]\n",
      " [ -0.00084791]\n",
      " [ -1.38493905]\n",
      " [  0.32108457]\n",
      " [ -0.01224971]\n",
      " [ -0.9125235 ]\n",
      " [  0.01025336]\n",
      " [ -0.47841463]]\n"
     ]
    }
   ],
   "source": [
    "print(w)"
   ]
  },
  {
   "cell_type": "markdown",
   "id": "transparent-fiction",
   "metadata": {},
   "source": [
    "Experiment 6: Find the predicted response for each training example using all the features. Then find the average loss"
   ]
  },
  {
   "cell_type": "markdown",
   "id": "theoretical-message",
   "metadata": {},
   "source": [
    "The form of the predicted equation is:\n",
    "$$ t_{hat} = Xw$$"
   ]
  },
  {
   "cell_type": "code",
   "execution_count": 25,
   "id": "separated-impact",
   "metadata": {},
   "outputs": [],
   "source": [
    "t_hat = np.dot(X,w)"
   ]
  },
  {
   "cell_type": "code",
   "execution_count": 26,
   "id": "blessed-interface",
   "metadata": {},
   "outputs": [
    {
     "data": {
      "text/plain": [
       "array([21.80719958])"
      ]
     },
     "execution_count": 26,
     "metadata": {},
     "output_type": "execute_result"
    }
   ],
   "source": [
    "training_avg_loss = 0\n",
    "\n",
    "for idx, item in enumerate(t_hat):\n",
    "    training_avg_loss += (item - training_t[idx])**2\n",
    "    \n",
    "training_avg_loss /= len(t_hat) \n",
    "\n",
    "training_avg_loss"
   ]
  },
  {
   "cell_type": "markdown",
   "id": "assigned-bolivia",
   "metadata": {},
   "source": [
    "Experiment 7: Repeat experiment 6 for the validation set. Compare the training MSE and the validation MSE"
   ]
  },
  {
   "cell_type": "code",
   "execution_count": 27,
   "id": "flexible-adoption",
   "metadata": {},
   "outputs": [],
   "source": [
    "X = validation_f\n",
    "t = validation_t[:,None]"
   ]
  },
  {
   "cell_type": "code",
   "execution_count": 28,
   "id": "eligible-cathedral",
   "metadata": {},
   "outputs": [],
   "source": [
    "X = np.concatenate((np.ones((len(X),1)),X),axis=1)\n",
    "XX = np.dot(X.T,X)\n",
    "Xt = np.dot(X.T,t)\n",
    "w = np.linalg.solve(XX,Xt)"
   ]
  },
  {
   "cell_type": "code",
   "execution_count": 29,
   "id": "remarkable-luxembourg",
   "metadata": {},
   "outputs": [
    {
     "name": "stdout",
     "output_type": "stream",
     "text": [
      "[[ 51.28112865]\n",
      " [ -0.09498482]\n",
      " [  0.04763051]\n",
      " [ -0.0363407 ]\n",
      " [  3.42317937]\n",
      " [-19.64878878]\n",
      " [  2.81393877]\n",
      " [  0.00715969]\n",
      " [ -1.83114511]\n",
      " [  0.25018375]\n",
      " [ -0.01212287]\n",
      " [ -1.15160786]\n",
      " [  0.00773584]\n",
      " [ -0.66295984]]\n"
     ]
    }
   ],
   "source": [
    "print(w)"
   ]
  },
  {
   "cell_type": "code",
   "execution_count": 30,
   "id": "covered-landscape",
   "metadata": {},
   "outputs": [],
   "source": [
    "t_hat = np.dot(X,w)"
   ]
  },
  {
   "cell_type": "code",
   "execution_count": 31,
   "id": "massive-coverage",
   "metadata": {},
   "outputs": [
    {
     "data": {
      "text/plain": [
       "array([20.21414888])"
      ]
     },
     "execution_count": 31,
     "metadata": {},
     "output_type": "execute_result"
    }
   ],
   "source": [
    "validation_avg_loss = 0\n",
    "\n",
    "for idx, item in enumerate(t_hat):\n",
    "    validation_avg_loss += (item - validation_t[idx])**2\n",
    "    \n",
    "validation_avg_loss /= len(t_hat) \n",
    "\n",
    "validation_avg_loss"
   ]
  },
  {
   "cell_type": "markdown",
   "id": "conditional-quebec",
   "metadata": {},
   "source": [
    "The validation MSE is slightly lower than the training MSE. This means that the model fits the data well. The reason that the model fits well is because the model is taking into account all of the data that is available. This gives a better predictor for the Median Value. "
   ]
  },
  {
   "cell_type": "markdown",
   "id": "thrown-response",
   "metadata": {},
   "source": [
    "**Question 9**"
   ]
  },
  {
   "cell_type": "markdown",
   "id": "stupid-malpractice",
   "metadata": {},
   "source": [
    "    CRIM          -$114.55\n",
    "    ZN             $44.89\n",
    "    INDUS          $28.38\n",
    "    CHAS           $2,709.10\n",
    "    NOX           -$16,740.37\n",
    "    RM             $4,111.48\n",
    "    AGE            -$0.85\n",
    "    DIS           -$1,384.94\n",
    "    RAD            $321.08\n",
    "    TAX           -$12.25\n",
    "    PTRATIO       -$912.52\n",
    "    B              $10.25\n",
    "    LSTAT         -$478.41\n",
    "              \n",
    "              \n",
    "              "
   ]
  },
  {
   "cell_type": "markdown",
   "id": "after-warner",
   "metadata": {},
   "source": [
    "**Question 10**"
   ]
  },
  {
   "cell_type": "markdown",
   "id": "fantastic-access",
   "metadata": {},
   "source": [
    "Based on these values, the top 3 features that make the biggest change in order are: NOX, RM, and CHAS"
   ]
  }
 ],
 "metadata": {
  "kernelspec": {
   "display_name": "Python 3",
   "language": "python",
   "name": "python3"
  },
  "language_info": {
   "codemirror_mode": {
    "name": "ipython",
    "version": 3
   },
   "file_extension": ".py",
   "mimetype": "text/x-python",
   "name": "python",
   "nbconvert_exporter": "python",
   "pygments_lexer": "ipython3",
   "version": "3.6.12"
  }
 },
 "nbformat": 4,
 "nbformat_minor": 5
}
